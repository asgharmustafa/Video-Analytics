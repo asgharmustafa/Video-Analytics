{
  "nbformat": 4,
  "nbformat_minor": 0,
  "metadata": {
    "colab": {
      "name": "Asghar Mustafa-Video Analytics-Data Scientist AI Australia.ipynb",
      "provenance": []
    },
    "kernelspec": {
      "name": "python3",
      "display_name": "Python 3"
    },
    "accelerator": "GPU"
  },
  "cells": [
    {
      "cell_type": "markdown",
      "metadata": {
        "id": "4YenAW1ejGRI",
        "colab_type": "text"
      },
      "source": [
        "**Introduction**\n",
        "\n",
        "This problem performs video analytics of an interview canidate for a given video on 4 aspects:\n",
        "\n",
        "\n",
        "1.   Sentiment Analysis of the Candidate\n",
        "2.   Trancription of the audio\n",
        "3.   Facial expression recognition\n",
        "4.   Non verbal gestures\n",
        "\n"
      ]
    },
    {
      "cell_type": "markdown",
      "metadata": {
        "id": "n4o2cUX-4i_5",
        "colab_type": "text"
      },
      "source": [
        "- Use python to complete the task.\n",
        "- Use of google collaboratory.\n",
        "- Use of specialized APIs (Video Indexer from Microsoft Azure and Speech Recognition from Google) and libraries (fer, CV2 and face recognition) to perform the necessary operations.\n",
        "\n",
        "\n",
        "          1.   Sentiment Analysis of the Candidate - Video Indexer by Microsoft Azure\n",
        "          2.   Transcribtion - Speech recognition by Google\n",
        "          3.   Facial expressions - FER Library\n",
        "          4.   Non verbal Gestures - CV2 and face recognition library\n",
        "\n"
      ]
    },
    {
      "cell_type": "markdown",
      "metadata": {
        "id": "LmRmTT1PsNeJ",
        "colab_type": "text"
      },
      "source": [
        "**Installing and Loading libraries**"
      ]
    },
    {
      "cell_type": "code",
      "metadata": {
        "id": "pacMemlZP37C",
        "colab_type": "code",
        "colab": {}
      },
      "source": [
        "!pip install video_indexer\n",
        "!pip install SpeechRecognition\n",
        "!pip install fer\n",
        "#!pip install opencv-python\n",
        "!pip install face-recognition\n",
        "#!pip install dlib"
      ],
      "execution_count": null,
      "outputs": []
    },
    {
      "cell_type": "code",
      "metadata": {
        "id": "B0z3Ed5kee2k",
        "colab_type": "code",
        "colab": {}
      },
      "source": [
        "from video_indexer import VideoIndexer\n",
        "from google.colab import drive\n",
        "import matplotlib.pyplot as plt\n",
        "import moviepy.editor as mp \n",
        "import os\n",
        "import speech_recognition as sr\n",
        "from fer import Video\n",
        "from fer import FER\n",
        "import cv2\n",
        "import pandas as pd\n",
        "import face_recognition # Runtime->Change runtime type->GPU"
      ],
      "execution_count": null,
      "outputs": []
    },
    {
      "cell_type": "markdown",
      "metadata": {
        "id": "2yF_KZJkeIhP",
        "colab_type": "text"
      },
      "source": [
        "\n",
        "**Sentiment Analysis Of the Candidate**\n",
        "\n",
        "Using VIDEO Indexer from Microsoft Azure"
      ]
    },
    {
      "cell_type": "code",
      "metadata": {
        "id": "YVXv0MiwQFI-",
        "colab_type": "code",
        "colab": {}
      },
      "source": [
        "CONFIG = {\n",
        "    'SUBSCRIPTION_KEY': '6286729443b4435e94eafa2832043c76',\n",
        "    'LOCATION': 'trial',\n",
        "    'ACCOUNT_ID': '35eb8163-a9c3-48ab-8d3c-d9f1412a367b'\n",
        "}\n",
        "\n",
        "vi = VideoIndexer(\n",
        "    vi_subscription_key=CONFIG['SUBSCRIPTION_KEY'],\n",
        "    vi_location=CONFIG['LOCATION'],\n",
        "    vi_account_id=CONFIG['ACCOUNT_ID']\n",
        ")"
      ],
      "execution_count": null,
      "outputs": []
    },
    {
      "cell_type": "code",
      "metadata": {
        "id": "u9s91acwRshm",
        "colab_type": "code",
        "colab": {}
      },
      "source": [
        "drive.mount('/content/drive', force_remount=True)\n"
      ],
      "execution_count": null,
      "outputs": []
    },
    {
      "cell_type": "code",
      "metadata": {
        "id": "WNv7EclhhJDc",
        "colab_type": "code",
        "colab": {}
      },
      "source": [
        "!ls '/content/drive/My Drive/AI Australia - Problem'"
      ],
      "execution_count": null,
      "outputs": []
    },
    {
      "cell_type": "code",
      "metadata": {
        "id": "Ss9xzAiNUc5a",
        "colab_type": "code",
        "colab": {}
      },
      "source": [
        "video_id = vi.upload_to_video_indexer(\n",
        "   input_filename='/content/drive/My Drive/AI Australia - Problem/My_video.mp4',\n",
        "   video_name='My_Video_Indexer',  # identifier for video in Video Indexer platform, must be unique during indexing time\n",
        "   video_language='English'\n",
        ")"
      ],
      "execution_count": null,
      "outputs": []
    },
    {
      "cell_type": "code",
      "metadata": {
        "id": "elcccCccWken",
        "colab_type": "code",
        "colab": {
          "base_uri": "https://localhost:8080/",
          "height": 34
        },
        "outputId": "36d1dca8-55b4-4ccd-aa27-d946703e6003"
      },
      "source": [
        "info = vi.get_video_info(\n",
        "    video_id,\n",
        "    video_language='English'\n",
        ")"
      ],
      "execution_count": null,
      "outputs": [
        {
          "output_type": "stream",
          "text": [
            "Getting video info for: 5f68852fd8\n"
          ],
          "name": "stdout"
        }
      ]
    },
    {
      "cell_type": "code",
      "metadata": {
        "id": "CSFLuw_sXhxX",
        "colab_type": "code",
        "colab": {}
      },
      "source": [
        "num_emotions=len(info['summarizedInsights']['emotions'])\n",
        "\n",
        "emotions=[]\n",
        "percentage=[]\n",
        "for ind,each in enumerate(info['summarizedInsights']['emotions']):\n",
        "  #print(info['summarizedInsights']['emotions'][ind])\n",
        "  print(info['summarizedInsights']['emotions'][ind]['type'])\n",
        "  print(info['summarizedInsights']['emotions'][ind]['seenDurationRatio']*100)\n",
        "  print(\"****************------------------**********\")\n",
        "  emotions.append(info['summarizedInsights']['emotions'][ind]['type'])\n",
        "  percentage.append(info['summarizedInsights']['emotions'][ind]['seenDurationRatio']*100)"
      ],
      "execution_count": null,
      "outputs": []
    },
    {
      "cell_type": "code",
      "metadata": {
        "id": "8UdV1B7qcoKv",
        "colab_type": "code",
        "colab": {
          "base_uri": "https://localhost:8080/",
          "height": 34
        },
        "outputId": "f9084888-0f30-49c0-e582-f1040a463fd5"
      },
      "source": [
        "emotions"
      ],
      "execution_count": null,
      "outputs": [
        {
          "output_type": "execute_result",
          "data": {
            "text/plain": [
              "['Joy', 'Sad']"
            ]
          },
          "metadata": {
            "tags": []
          },
          "execution_count": 45
        }
      ]
    },
    {
      "cell_type": "code",
      "metadata": {
        "id": "mklxsdu9cqXy",
        "colab_type": "code",
        "colab": {
          "base_uri": "https://localhost:8080/",
          "height": 34
        },
        "outputId": "9bbd8e44-6be1-492b-d5cb-2468fa2f60f4"
      },
      "source": [
        "percentage"
      ],
      "execution_count": null,
      "outputs": [
        {
          "output_type": "execute_result",
          "data": {
            "text/plain": [
              "[5.0200000000000005, 3.81]"
            ]
          },
          "metadata": {
            "tags": []
          },
          "execution_count": 46
        }
      ]
    },
    {
      "cell_type": "code",
      "metadata": {
        "id": "FDHBa9z5c6Uz",
        "colab_type": "code",
        "colab": {
          "base_uri": "https://localhost:8080/",
          "height": 366
        },
        "outputId": "65005ee0-3cae-4b81-a082-55f514b06712"
      },
      "source": [
        "fig = plt.figure()\n",
        "ax = fig.add_axes([0,0,1,1])\n",
        "ax.set_ylabel('Percentage')\n",
        "ax.set_xlabel(\"Emotions Observed\")\n",
        "ax.set_title('Sentiment Analysis of The Candidate')\n",
        "ax.bar(emotions,percentage)\n",
        "plt.show()\n"
      ],
      "execution_count": null,
      "outputs": [
        {
          "output_type": "display_data",
          "data": {
            "image/png": "[encoded data removed]",
            "text/plain": [
              "<Figure size 432x288 with 1 Axes>"
            ]
          },
          "metadata": {
            "tags": [],
            "needs_background": "light"
          }
        }
      ]
    },
    {
      "cell_type": "code",
      "metadata": {
        "id": "YCp_4U_EhouK",
        "colab_type": "code",
        "colab": {}
      },
      "source": [
        "sentiments=[]\n",
        "percentage1=[]\n",
        "for ind,each in enumerate(info['summarizedInsights']['sentiments']):\n",
        "  sentiments.append(info['summarizedInsights']['sentiments'][ind]['sentimentKey'])\n",
        "  percentage1.append(info['summarizedInsights']['sentiments'][ind]['seenDurationRatio']*100)\n"
      ],
      "execution_count": null,
      "outputs": []
    },
    {
      "cell_type": "code",
      "metadata": {
        "id": "ySj37qzgjW6T",
        "colab_type": "code",
        "colab": {
          "base_uri": "https://localhost:8080/",
          "height": 366
        },
        "outputId": "7b8ec1ea-585f-46cc-f3f1-737a9149e70c"
      },
      "source": [
        "fig = plt.figure()\n",
        "ax = fig.add_axes([0,0,1,1])\n",
        "ax.set_ylabel('Percentage')\n",
        "ax.set_xlabel(\"Sentiments Observed\")\n",
        "ax.set_title('Sentiment Analysis of The Candidate')\n",
        "ax.bar(sentiments,percentage1)\n",
        "plt.show()\n"
      ],
      "execution_count": null,
      "outputs": [
        {
          "output_type": "display_data",
          "data": {
            "image/png": "[encoded data removed]",
            "text/plain": [
              "<Figure size 432x288 with 1 Axes>"
            ]
          },
          "metadata": {
            "tags": [],
            "needs_background": "light"
          }
        }
      ]
    },
    {
      "cell_type": "markdown",
      "metadata": {
        "id": "aoBICp7E_cu5",
        "colab_type": "text"
      },
      "source": [
        "As can be seen by the bar chart (also displayed by the video) the video mostly displays neutral and positive response. The corresponding emotions with positive sentiment i.e. Joy and negative seniment i.e. Sad are also displayed by the graph above. "
      ]
    },
    {
      "cell_type": "code",
      "metadata": {
        "id": "rj4MTigqjl2i",
        "colab_type": "code",
        "colab": {
          "base_uri": "https://localhost:8080/",
          "height": 54
        },
        "outputId": "de7ec65b-2f22-4824-f6fa-ed85a8d66cc3"
      },
      "source": [
        "info['summarizedInsights'].keys()"
      ],
      "execution_count": null,
      "outputs": [
        {
          "output_type": "execute_result",
          "data": {
            "text/plain": [
              "dict_keys(['name', 'id', 'privacyMode', 'duration', 'thumbnailVideoId', 'thumbnailId', 'faces', 'keywords', 'sentiments', 'emotions', 'audioEffects', 'labels', 'framePatterns', 'brands', 'namedLocations', 'namedPeople', 'statistics', 'topics'])"
            ]
          },
          "metadata": {
            "tags": []
          },
          "execution_count": 57
        }
      ]
    },
    {
      "cell_type": "code",
      "metadata": {
        "id": "as_wmJadjy3l",
        "colab_type": "code",
        "colab": {
          "base_uri": "https://localhost:8080/",
          "height": 204
        },
        "outputId": "e5c5e038-3a0c-4c0f-e1a8-e4f01666d633"
      },
      "source": [
        "# key words\n",
        "[info['summarizedInsights'][\"keywords\"][i][\"name\"] for i in range(len(info['summarizedInsights'][\"keywords\"]))]"
      ],
      "execution_count": null,
      "outputs": [
        {
          "output_type": "execute_result",
          "data": {
            "text/plain": [
              "['service delivery',\n",
              " 'recently',\n",
              " 'experience',\n",
              " 'projects',\n",
              " 'team',\n",
              " 'business',\n",
              " 'monash',\n",
              " 'analysis',\n",
              " 'working',\n",
              " 'work',\n",
              " 'australia']"
            ]
          },
          "metadata": {
            "tags": []
          },
          "execution_count": 64
        }
      ]
    },
    {
      "cell_type": "markdown",
      "metadata": {
        "id": "HTfpOOpCAz_4",
        "colab_type": "text"
      },
      "source": [
        "Moreover, common key words were also obtained to get further insights into the sentiments. From, these it can be observed that the words are common words used in the AI field."
      ]
    },
    {
      "cell_type": "markdown",
      "metadata": {
        "id": "P9NKcQCIpmdS",
        "colab_type": "text"
      },
      "source": [
        "**Voice to Text**\n",
        "\n",
        "Using google speech recognition for transcribing the speech in the video.\n"
      ]
    },
    {
      "cell_type": "code",
      "metadata": {
        "id": "5AEc6TOgh_dH",
        "colab_type": "code",
        "colab": {}
      },
      "source": [
        "clip = mp.VideoFileClip(r\"/content/drive/My Drive/AI Australia - Problem/My_video.mp4\") "
      ],
      "execution_count": null,
      "outputs": []
    },
    {
      "cell_type": "code",
      "metadata": {
        "id": "pempipx9ifTE",
        "colab_type": "code",
        "colab": {}
      },
      "source": [
        "clip.audio.write_audiofile(r\"/content/drive/My Drive/AI Australia - Problem/My_video.wav\") "
      ],
      "execution_count": null,
      "outputs": []
    },
    {
      "cell_type": "code",
      "metadata": {
        "id": "hWjZkXAXi-YZ",
        "colab_type": "code",
        "colab": {}
      },
      "source": [
        "r = sr.Recognizer()\n",
        "audio1 = sr.AudioFile(r\"/content/drive/My Drive/AI Australia - Problem/My_video.wav\")"
      ],
      "execution_count": null,
      "outputs": []
    },
    {
      "cell_type": "code",
      "metadata": {
        "id": "UnRR_2IWjPl-",
        "colab_type": "code",
        "colab": {}
      },
      "source": [
        "with audio1 as source:\n",
        "  audio = r.record(source,duration=12)\n"
      ],
      "execution_count": null,
      "outputs": []
    },
    {
      "cell_type": "code",
      "metadata": {
        "id": "hdeXq-WakFfD",
        "colab_type": "code",
        "colab": {
          "base_uri": "https://localhost:8080/",
          "height": 35
        },
        "outputId": "05d614ad-71ed-4b28-e721-5e7ea2a0d874"
      },
      "source": [
        "text1=r.recognize_google(audio)\n",
        "text1"
      ],
      "execution_count": null,
      "outputs": [
        {
          "output_type": "execute_result",
          "data": {
            "application/vnd.google.colaboratory.intrinsic+json": {
              "type": "string"
            },
            "text/plain": [
              "'I do hope you are doing well well so much about myself while I have strong background in software Service delivery I recently. It was designed'"
            ]
          },
          "metadata": {
            "tags": []
          },
          "execution_count": 76
        }
      ]
    },
    {
      "cell_type": "code",
      "metadata": {
        "id": "DnV3SwkKvStC",
        "colab_type": "code",
        "colab": {}
      },
      "source": [
        "with audio1 as source:\n",
        "  audio = r.record(source,duration=12,offset=12)\n",
        "\n",
        "text2=r.recognize_google(audio)\n",
        "text2"
      ],
      "execution_count": null,
      "outputs": []
    },
    {
      "cell_type": "code",
      "metadata": {
        "id": "cJCWHhpovndl",
        "colab_type": "code",
        "colab": {}
      },
      "source": [
        "with audio1 as source:\n",
        "  audio = r.record(source,duration=12,offset=24)\n",
        "\n",
        "text3=r.recognize_google(audio)\n",
        "text3"
      ],
      "execution_count": null,
      "outputs": []
    },
    {
      "cell_type": "code",
      "metadata": {
        "id": "S4XpTsrMwNNd",
        "colab_type": "code",
        "colab": {}
      },
      "source": [
        "with audio1 as source:\n",
        "  audio = r.record(source,duration=12,offset=36)\n",
        "\n",
        "text4=r.recognize_google(audio)\n",
        "text4"
      ],
      "execution_count": null,
      "outputs": []
    },
    {
      "cell_type": "code",
      "metadata": {
        "id": "vaaLysmjwXfp",
        "colab_type": "code",
        "colab": {}
      },
      "source": [
        "with audio1 as source:\n",
        "  audio = r.record(source,duration=12,offset=48)\n",
        "\n",
        "text5=r.recognize_google(audio)\n",
        "text5"
      ],
      "execution_count": null,
      "outputs": []
    },
    {
      "cell_type": "code",
      "metadata": {
        "id": "bzWwdDmQwdyF",
        "colab_type": "code",
        "colab": {}
      },
      "source": [
        "with audio1 as source:\n",
        "  audio = r.record(source,duration=12,offset=60)\n",
        "\n",
        "text6=r.recognize_google(audio)\n",
        "text6"
      ],
      "execution_count": null,
      "outputs": []
    },
    {
      "cell_type": "code",
      "metadata": {
        "id": "8O_ArJpkwoFo",
        "colab_type": "code",
        "colab": {}
      },
      "source": [
        "with audio1 as source:\n",
        "  audio = r.record(source,duration=12,offset=72)\n",
        "\n",
        "text7=r.recognize_google(audio)\n",
        "text7"
      ],
      "execution_count": null,
      "outputs": []
    },
    {
      "cell_type": "code",
      "metadata": {
        "id": "eyQ-C0LdxEb7",
        "colab_type": "code",
        "colab": {}
      },
      "source": [
        "with audio1 as source:\n",
        "  audio = r.record(source,duration=17,offset=84)\n",
        "\n",
        "text8=r.recognize_google(audio)\n",
        "text8"
      ],
      "execution_count": null,
      "outputs": []
    },
    {
      "cell_type": "code",
      "metadata": {
        "id": "e6H4qtvXxOrU",
        "colab_type": "code",
        "colab": {}
      },
      "source": [
        "text=text1+\" \"+text2+\" \"+text3+\" \"+text4+\" \"+text5+\" \"+text6+\" \"+text7+\" \"+text8+\".\"\n",
        "text"
      ],
      "execution_count": null,
      "outputs": []
    },
    {
      "cell_type": "markdown",
      "metadata": {
        "id": "9MdNGEEYCmGO",
        "colab_type": "text"
      },
      "source": [
        "**Facial Expressions of the video**"
      ]
    },
    {
      "cell_type": "markdown",
      "metadata": {
        "id": "CUa9EyVYckNr",
        "colab_type": "text"
      },
      "source": [
        "Setting up FER library "
      ]
    },
    {
      "cell_type": "code",
      "metadata": {
        "id": "wt2iNJRdDDx9",
        "colab_type": "code",
        "colab": {}
      },
      "source": [
        "video = Video(r\"/content/drive/My Drive/AI Australia - Problem/My_video.mp4\")\n",
        "\n",
        "# Analyze video, displaying the output\n",
        "detector = FER(mtcnn=True)\n"
      ],
      "execution_count": null,
      "outputs": []
    },
    {
      "cell_type": "markdown",
      "metadata": {
        "id": "MNybdCKRdpQ_",
        "colab_type": "text"
      },
      "source": [
        "Analyzing video frames using MTCNN and saving facial expressions of happy, surprised, sad, angry, fear, disgust and neutral in each frame."
      ]
    },
    {
      "cell_type": "code",
      "metadata": {
        "id": "G0hOqk41OTDc",
        "colab_type": "code",
        "colab": {}
      },
      "source": [
        "raw_data = video.analyze(detector)\n",
        "df = video.to_pandas(raw_data)"
      ],
      "execution_count": null,
      "outputs": []
    },
    {
      "cell_type": "markdown",
      "metadata": {
        "id": "v2URsRKzikQ5",
        "colab_type": "text"
      },
      "source": [
        "Saving the data of frames in a csv file."
      ]
    },
    {
      "cell_type": "code",
      "metadata": {
        "id": "hWZTfiSkZMvS",
        "colab_type": "code",
        "colab": {}
      },
      "source": [
        "#with open('/content/drive/My Drive/AI Australia - Problem/foo.csv', 'w') as f:\n",
        "#  df.to_csv(f)\n",
        "df=pd.read_csv('/content/drive/My Drive/AI Australia - Problem/foo.csv')"
      ],
      "execution_count": null,
      "outputs": []
    },
    {
      "cell_type": "markdown",
      "metadata": {
        "id": "mTHMccwkiWsq",
        "colab_type": "text"
      },
      "source": [
        "Setting a pie chart of average proportions of each facial expression observed in the video."
      ]
    },
    {
      "cell_type": "code",
      "metadata": {
        "id": "JgBEjp2wUVrs",
        "colab_type": "code",
        "colab": {
          "base_uri": "https://localhost:8080/",
          "height": 267
        },
        "outputId": "96ae1dcd-34b6-4694-f1ff-9bfe4853baa5"
      },
      "source": [
        "labels=list(df.columns) \n",
        "labels.pop(0)\n",
        "proportions=[]\n",
        "for each in labels:\n",
        "  proportions.append(sum(df[each])/len(df))\n",
        "\n",
        "colors = ['gold', 'yellowgreen', 'lightcoral', 'lightskyblue','pink','khaki','cyan']\n",
        "explode=[0,0,0,0,0,0,0.15]\n",
        "\n",
        "plt.pie(proportions, labels=labels, colors=colors,autopct='%1.1f%%',explode=explode,shadow=True, startangle=90)\n",
        "plt.axis('equal')\n",
        "plt.title(\"Proportion of facial expressions in the Video\")\n",
        "\n",
        "plt.show()"
      ],
      "execution_count": null,
      "outputs": [
        {
          "output_type": "display_data",
          "data": {
            "image/png": "[encoded data removed]",
            "text/plain": [
              "<Figure size 432x288 with 1 Axes>"
            ]
          },
          "metadata": {
            "tags": []
          }
        }
      ]
    },
    {
      "cell_type": "markdown",
      "metadata": {
        "id": "OKUgfyiHdYfg",
        "colab_type": "text"
      },
      "source": [
        "**Other Non Verbal Attributes**\n",
        "\n",
        "From the video, it can be seen that other most prominent non verbal attribute is the face/head movement. The below code uses computer visio open source library and the face recognition library to detect movements (between video frames) as Nod, shake, both (Cross mivement) and no movement."
      ]
    },
    {
      "cell_type": "markdown",
      "metadata": {
        "id": "OtgJyya8XIXt",
        "colab_type": "text"
      },
      "source": [
        "Reading the frames in video using open source library...."
      ]
    },
    {
      "cell_type": "code",
      "metadata": {
        "id": "0HF18NM3OASA",
        "colab_type": "code",
        "colab": {}
      },
      "source": [
        "cap= cv2.VideoCapture(r'/content/drive/My Drive/AI Australia - Problem/My_video.mp4')"
      ],
      "execution_count": null,
      "outputs": []
    },
    {
      "cell_type": "code",
      "metadata": {
        "id": "tQmBfjhxyq-Q",
        "colab_type": "code",
        "colab": {
          "base_uri": "https://localhost:8080/",
          "height": 34
        },
        "outputId": "5a3f535a-b951-46bb-9d30-87d12441f555"
      },
      "source": [
        "total_frames = int(cap.get(cv2.CAP_PROP_FRAME_COUNT))\n",
        "total_frames"
      ],
      "execution_count": null,
      "outputs": [
        {
          "output_type": "execute_result",
          "data": {
            "text/plain": [
              "2988"
            ]
          },
          "metadata": {
            "tags": []
          },
          "execution_count": 5
        }
      ]
    },
    {
      "cell_type": "markdown",
      "metadata": {
        "id": "SpVPLEFAXPur",
        "colab_type": "text"
      },
      "source": [
        "Detecting shake as movement along the x axis while nod as face movement along the y axis."
      ]
    },
    {
      "cell_type": "code",
      "metadata": {
        "id": "IYKSHu3yy7TJ",
        "colab_type": "code",
        "colab": {}
      },
      "source": [
        "# Setting frame sample rate to be every 10 frames to reduce run time\n",
        "sample_rate=10\n",
        "nod=[]\n",
        "shake=[]\n",
        "count=0\n",
        "for fno in range(0, total_frames, sample_rate):\n",
        "\t\n",
        "  cap.set(cv2.CAP_PROP_POS_FRAMES, fno)\n",
        "\t\n",
        "  ret,frame = cap.read()\n",
        " \n",
        "  rgb_frame=frame[:,:,::-1]\n",
        "\n",
        "  #Detecting face location using face recognition library\n",
        "  face_locations = face_recognition.face_locations(rgb_frame)\n",
        "  if(len(face_locations)!=0):\n",
        "    #print(face_locations[0])\n",
        "    # Using coordinates of the center of the face to detect face movements\n",
        "    y_center=face_locations[0][0]+((face_locations[0][2]-face_locations[0][0])/2)\n",
        "    x_center=face_locations[0][3]+((face_locations[0][1]-face_locations[0][3])/2)\n",
        "    if (count!=0):\n",
        "      #print(\"here!!!!\")\n",
        "      if x_center==x_prev:\n",
        "        shake.append(0)\n",
        "      else:\n",
        "        shake.append(1)\n",
        "      \n",
        "      if y_center==y_prev:\n",
        "        nod.append(0)\n",
        "      else:\n",
        "        nod.append(1)\n",
        "      \n",
        "    x_prev=x_center\n",
        "    y_prev=y_center\n",
        "    count+=1\n",
        "    print(count)\n"
      ],
      "execution_count": null,
      "outputs": []
    },
    {
      "cell_type": "markdown",
      "metadata": {
        "id": "xcZEjt4bY5_n",
        "colab_type": "text"
      },
      "source": [
        "Calculation proportion of movements as nod, shake, cross (both) or no movement."
      ]
    },
    {
      "cell_type": "code",
      "metadata": {
        "id": "s3bEb-Ph-IHZ",
        "colab_type": "code",
        "colab": {
          "base_uri": "https://localhost:8080/",
          "height": 34
        },
        "outputId": "d079421a-3a52-4c7c-b27f-5f4610a449ab"
      },
      "source": [
        "count_nod=0\n",
        "count_shake=0\n",
        "count_nod_shake=0\n",
        "count_no=0\n",
        "for ind,each in enumerate(nod):\n",
        "  if each==1:\n",
        "    if shake[ind]==1:\n",
        "      count_nod_shake+=1\n",
        "    elif shake[ind]==0:\n",
        "      count_nod+=1\n",
        "  elif each==0:\n",
        "    if shake[ind]==1:\n",
        "      count_shake+=1\n",
        "    elif shake[ind]==0:\n",
        "      count_no+=1\n",
        "counts=[]\n",
        "counts.append((count_nod_shake/len(nod))*100)\n",
        "counts.append((count_nod/len(nod))*100)\n",
        "counts.append((count_shake/len(nod))*100)\n",
        "counts.append((count_no/len(nod))*100)\n",
        "\n",
        "counts"
      ],
      "execution_count": null,
      "outputs": [
        {
          "output_type": "execute_result",
          "data": {
            "text/plain": [
              "[34.91525423728813, 6.440677966101695, 26.440677966101696, 32.20338983050847]"
            ]
          },
          "metadata": {
            "tags": []
          },
          "execution_count": 26
        }
      ]
    },
    {
      "cell_type": "markdown",
      "metadata": {
        "id": "4x_Rk4b7ZEbv",
        "colab_type": "text"
      },
      "source": [
        "Plotting bar graph of proportion of movements."
      ]
    },
    {
      "cell_type": "code",
      "metadata": {
        "id": "Tm3MqmY3ApYM",
        "colab_type": "code",
        "colab": {
          "base_uri": "https://localhost:8080/",
          "height": 297
        },
        "outputId": "ef161c10-35e1-48e8-db15-f6e45da9086d"
      },
      "source": [
        "movement=[\"Cross\",\"Nod\",\"Shake\",\"No movement\"]\n",
        "fig, ax = plt.subplots()\n",
        "\n",
        "bar_width = 0.35\n",
        "\n",
        "rects1 = plt.bar(movement, counts, bar_width, color='g', alpha= 0.8)\n",
        "plt.xlabel('Head Movement')\n",
        "plt.ylabel('Percentage of head movement (%)')\n",
        "plt.title('Head Gestures in the video')\n",
        "for rect in rects1:\n",
        "    height = rect.get_height()\n",
        "    ax.text(rect.get_x() + rect.get_width()/2., 0.99*height,\n",
        "            '%d' % int(height) + \"%\", ha='center', va='bottom')\n",
        "plt.tight_layout()\n",
        "plt.show()"
      ],
      "execution_count": null,
      "outputs": [
        {
          "output_type": "display_data",
          "data": {
            "image/png": "[encoded data removed]",
            "text/plain": [
              "<Figure size 432x288 with 1 Axes>"
            ]
          },
          "metadata": {
            "tags": [],
            "needs_background": "light"
          }
        }
      ]
    },
    {
      "cell_type": "markdown",
      "metadata": {
        "id": "3QTAO_ieZarY",
        "colab_type": "text"
      },
      "source": [
        "From the results above it can be seen that the results are consistent with what is seen by human eye in the video. Candidate is stable for significant proportion of time in the video which is reprented by good 32% of sample frames not showing any movement. Moreover, candidate moves horizontally while emphasizing which is represented by high percentages in shake and cross head movements. Lastly, the candidate rarely is seen to vertically shake is head which is shown by low percentage in Nod movement."
      ]
    },
    {
      "cell_type": "markdown",
      "metadata": {
        "id": "iwLvJl4dn5Q5",
        "colab_type": "text"
      },
      "source": [
        "**Limitations of Analysis**\n",
        "\n"
      ]
    },
    {
      "cell_type": "markdown",
      "metadata": {
        "id": "4HMAFZR8oAeN",
        "colab_type": "text"
      },
      "source": [
        "Due to lack of video data pre trained models from specialized libraries/APIS such as videoindexer (by Microsoft Azure), Speech recognition (by Google) and Facial Expression Recognition (by Justin Shenk) were used. If specialized data of videos were available from interview answers of various candidates, more specific deep neural network models such as CNN could have been trained to obtain more statistically significant results.\n"
      ]
    },
    {
      "cell_type": "markdown",
      "metadata": {
        "id": "oKhQmj7dpWGC",
        "colab_type": "text"
      },
      "source": [
        "**References**\n",
        "\n",
        "1.   https://pypi.org/project/video-indexer/\n",
        "2.   https://pypi.org/project/SpeechRecognition/\n",
        "3.   https://pypi.org/project/fer/\n",
        "\n"
      ]
    }
  ]
}